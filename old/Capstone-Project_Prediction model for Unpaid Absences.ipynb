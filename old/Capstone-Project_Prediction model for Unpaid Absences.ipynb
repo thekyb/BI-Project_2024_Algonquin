{
 "cells": [
  {
   "cell_type": "code",
   "execution_count": 2,
   "id": "0ef0cd37",
   "metadata": {},
   "outputs": [],
   "source": [
    "import numpy as np\n",
    "import pandas as pd\n",
    "import seaborn as sns\n",
    "\n",
    "from sklearn.preprocessing import StandardScaler\n",
    "from sklearn.model_selection import train_test_split\n",
    "from sklearn.linear_model import LinearRegression\n",
    "from sklearn.tree import DecisionTreeRegressor\n",
    "from sklearn.ensemble import RandomForestRegressor\n",
    "from sklearn.ensemble import RandomForestClassifier\n",
    "from sklearn.metrics import mean_squared_error, r2_score\n",
    "import matplotlib.pyplot as plt\n",
    "%matplotlib inline\n",
    "from sklearn.metrics import accuracy_score, confusion_matrix\n",
    "\n",
    "import warnings\n",
    "warnings.filterwarnings(\"ignore\")"
   ]
  },
  {
   "cell_type": "code",
   "execution_count": 12,
   "id": "727c432c",
   "metadata": {},
   "outputs": [
    {
     "name": "stdout",
     "output_type": "stream",
     "text": [
      "       Date  Workload sum  Scheduled Hours  Planned Absences  \\\n",
      "0  1/1/2019             8             0.00              0.00   \n",
      "1  1/2/2019         40804          8885.90           1195.23   \n",
      "2  1/3/2019         42189          9656.08           1218.42   \n",
      "3  1/4/2019         44384          8795.96           1269.42   \n",
      "4  1/5/2019            11          4354.98            575.00   \n",
      "\n",
      "   Unplanned Absences  Unpaid Absences  Actual Work Hours  \\\n",
      "0                0.00             0.00               0.00   \n",
      "1              647.96           296.59            7042.71   \n",
      "2              562.20           283.91            7875.46   \n",
      "3              578.67           277.13            6947.87   \n",
      "4              305.32           132.69            3474.66   \n",
      "\n",
      "   National_Holiday_IND  Provincial_Holiday_IND  Impact_Day_FLG  Day_of_Week  \\\n",
      "0                     1                       0               0            3   \n",
      "1                     0                       0               0            4   \n",
      "2                     0                       0               0            5   \n",
      "3                     0                       0               0            6   \n",
      "4                     0                       0               0            7   \n",
      "\n",
      "   Week_of_Year  Day_of_Month  Month_no  Year_NO  Weather Flag  \n",
      "0             0             1         1     2019             0  \n",
      "1             0             2         1     2019             0  \n",
      "2             0             3         1     2019             1  \n",
      "3             0             4         1     2019             0  \n",
      "4             0             5         1     2019             0  \n",
      "<class 'pandas.core.frame.DataFrame'>\n",
      "RangeIndex: 1139 entries, 0 to 1138\n",
      "Data columns (total 16 columns):\n",
      " #   Column                  Non-Null Count  Dtype  \n",
      "---  ------                  --------------  -----  \n",
      " 0   Date                    1139 non-null   object \n",
      " 1   Workload sum            1139 non-null   int64  \n",
      " 2   Scheduled Hours         1139 non-null   float64\n",
      " 3   Planned Absences        1139 non-null   float64\n",
      " 4   Unplanned Absences      1139 non-null   float64\n",
      " 5   Unpaid Absences         1139 non-null   float64\n",
      " 6   Actual Work Hours       1139 non-null   float64\n",
      " 7   National_Holiday_IND    1139 non-null   int64  \n",
      " 8   Provincial_Holiday_IND  1139 non-null   int64  \n",
      " 9   Impact_Day_FLG          1139 non-null   int64  \n",
      " 10  Day_of_Week             1139 non-null   int64  \n",
      " 11  Week_of_Year            1139 non-null   int64  \n",
      " 12  Day_of_Month            1139 non-null   int64  \n",
      " 13  Month_no                1139 non-null   int64  \n",
      " 14  Year_NO                 1139 non-null   int64  \n",
      " 15  Weather Flag            1139 non-null   int64  \n",
      "dtypes: float64(5), int64(10), object(1)\n",
      "memory usage: 142.5+ KB\n",
      "None\n"
     ]
    }
   ],
   "source": [
    "#df = pd.read_csv(r\"C:\\Users\\Thinkpad\\OneDrive\\Documents\\BI Project\\ML_data.csv\")\n",
    "df = pd.read_excel(r\"C:\\Users\\Thinkpad\\OneDrive\\Documents\\BI Project\\Capstone_Data.xlsx\")\n",
    "\n",
    "# Explore the dataset\n",
    "print(df.head())\n",
    "print(df.info())"
   ]
  },
  {
   "cell_type": "code",
   "execution_count": 13,
   "id": "83cc7435",
   "metadata": {},
   "outputs": [],
   "source": [
    "# Split the data into dependent and independent variables\n",
    "from sklearn.preprocessing import LabelEncoder\n",
    "\n",
    "# x = df.drop('Workload sum', axis = 1)\n",
    "# y = df.Scheduled Hours\n",
    "\n",
    "# Seperate features and target\n",
    "x = df[['Actual Work Hours']]\n",
    "y = df[['Unpaid Absences']]\n",
    "\n",
    "label_encoder = LabelEncoder()\n",
    "y = label_encoder.fit_transform(y)\n"
   ]
  },
  {
   "cell_type": "code",
   "execution_count": 14,
   "id": "afd1c58f",
   "metadata": {},
   "outputs": [],
   "source": [
    "from sklearn.model_selection import train_test_split\n",
    "x_train, x_test, y_train, y_test = train_test_split(x,y, test_size=0.2, random_state=123)"
   ]
  },
  {
   "cell_type": "code",
   "execution_count": 15,
   "id": "d7c4bc05",
   "metadata": {},
   "outputs": [
    {
     "data": {
      "text/plain": [
       "((911, 1), (228, 1), (911,), (228,))"
      ]
     },
     "execution_count": 15,
     "metadata": {},
     "output_type": "execute_result"
    }
   ],
   "source": [
    "#x_train.shape, y_train.shape, x_test.shape, y_test.shape\n",
    "x_train.shape, x_test.shape, y_train.shape, y_test.shape"
   ]
  },
  {
   "cell_type": "code",
   "execution_count": 16,
   "id": "bf24f1dd",
   "metadata": {},
   "outputs": [],
   "source": [
    "## Linear Regression Model:"
   ]
  },
  {
   "cell_type": "code",
   "execution_count": 17,
   "id": "e50b9694",
   "metadata": {},
   "outputs": [
    {
     "name": "stdout",
     "output_type": "stream",
     "text": [
      "rmse on train set is 266.06889845205285\n",
      "rmse on test set is 265.49012874898835\n"
     ]
    }
   ],
   "source": [
    "# Initialize the Linear Regression model\n",
    "from sklearn.datasets import make_regression\n",
    "Regression = LinearRegression()\n",
    "\n",
    "# Train the model\n",
    "model1 = Regression.fit(x_train,y_train)\n",
    "\n",
    "# Make predictions on the train set\n",
    "y_trainpred2 = model1.predict(x_train)\n",
    "\n",
    "# make prediction on test set\n",
    "y_pred2 = model1.predict(x_test)\n",
    "\n",
    "# Drop rows with missing values from both X and y\n",
    "x_cleaned = x.dropna()\n",
    "y_cleaned = y[x.index.isin(x_cleaned.index)]\n",
    "\n",
    "# Fit the LinearRegression model with the cleaned data\n",
    "regressor = LinearRegression()\n",
    "regressor.fit(x_cleaned, y_cleaned)\n",
    "\n",
    "# Evaluate the model\n",
    "\n",
    "rmse1 = mean_squared_error(y_trainpred2, y_train, squared=False)\n",
    "rmse2 = mean_squared_error(y_pred2, y_test, squared=False)\n",
    "print('rmse on train set is',rmse1)\n",
    "print('rmse on test set is', rmse2)"
   ]
  },
  {
   "cell_type": "code",
   "execution_count": 24,
   "id": "6b015dd4",
   "metadata": {},
   "outputs": [],
   "source": [
    "## Decision Tree Model:"
   ]
  },
  {
   "cell_type": "code",
   "execution_count": 19,
   "id": "fa37ab74",
   "metadata": {},
   "outputs": [
    {
     "data": {
      "text/html": [
       "<style>#sk-container-id-2 {color: black;}#sk-container-id-2 pre{padding: 0;}#sk-container-id-2 div.sk-toggleable {background-color: white;}#sk-container-id-2 label.sk-toggleable__label {cursor: pointer;display: block;width: 100%;margin-bottom: 0;padding: 0.3em;box-sizing: border-box;text-align: center;}#sk-container-id-2 label.sk-toggleable__label-arrow:before {content: \"▸\";float: left;margin-right: 0.25em;color: #696969;}#sk-container-id-2 label.sk-toggleable__label-arrow:hover:before {color: black;}#sk-container-id-2 div.sk-estimator:hover label.sk-toggleable__label-arrow:before {color: black;}#sk-container-id-2 div.sk-toggleable__content {max-height: 0;max-width: 0;overflow: hidden;text-align: left;background-color: #f0f8ff;}#sk-container-id-2 div.sk-toggleable__content pre {margin: 0.2em;color: black;border-radius: 0.25em;background-color: #f0f8ff;}#sk-container-id-2 input.sk-toggleable__control:checked~div.sk-toggleable__content {max-height: 200px;max-width: 100%;overflow: auto;}#sk-container-id-2 input.sk-toggleable__control:checked~label.sk-toggleable__label-arrow:before {content: \"▾\";}#sk-container-id-2 div.sk-estimator input.sk-toggleable__control:checked~label.sk-toggleable__label {background-color: #d4ebff;}#sk-container-id-2 div.sk-label input.sk-toggleable__control:checked~label.sk-toggleable__label {background-color: #d4ebff;}#sk-container-id-2 input.sk-hidden--visually {border: 0;clip: rect(1px 1px 1px 1px);clip: rect(1px, 1px, 1px, 1px);height: 1px;margin: -1px;overflow: hidden;padding: 0;position: absolute;width: 1px;}#sk-container-id-2 div.sk-estimator {font-family: monospace;background-color: #f0f8ff;border: 1px dotted black;border-radius: 0.25em;box-sizing: border-box;margin-bottom: 0.5em;}#sk-container-id-2 div.sk-estimator:hover {background-color: #d4ebff;}#sk-container-id-2 div.sk-parallel-item::after {content: \"\";width: 100%;border-bottom: 1px solid gray;flex-grow: 1;}#sk-container-id-2 div.sk-label:hover label.sk-toggleable__label {background-color: #d4ebff;}#sk-container-id-2 div.sk-serial::before {content: \"\";position: absolute;border-left: 1px solid gray;box-sizing: border-box;top: 0;bottom: 0;left: 50%;z-index: 0;}#sk-container-id-2 div.sk-serial {display: flex;flex-direction: column;align-items: center;background-color: white;padding-right: 0.2em;padding-left: 0.2em;position: relative;}#sk-container-id-2 div.sk-item {position: relative;z-index: 1;}#sk-container-id-2 div.sk-parallel {display: flex;align-items: stretch;justify-content: center;background-color: white;position: relative;}#sk-container-id-2 div.sk-item::before, #sk-container-id-2 div.sk-parallel-item::before {content: \"\";position: absolute;border-left: 1px solid gray;box-sizing: border-box;top: 0;bottom: 0;left: 50%;z-index: -1;}#sk-container-id-2 div.sk-parallel-item {display: flex;flex-direction: column;z-index: 1;position: relative;background-color: white;}#sk-container-id-2 div.sk-parallel-item:first-child::after {align-self: flex-end;width: 50%;}#sk-container-id-2 div.sk-parallel-item:last-child::after {align-self: flex-start;width: 50%;}#sk-container-id-2 div.sk-parallel-item:only-child::after {width: 0;}#sk-container-id-2 div.sk-dashed-wrapped {border: 1px dashed gray;margin: 0 0.4em 0.5em 0.4em;box-sizing: border-box;padding-bottom: 0.4em;background-color: white;}#sk-container-id-2 div.sk-label label {font-family: monospace;font-weight: bold;display: inline-block;line-height: 1.2em;}#sk-container-id-2 div.sk-label-container {text-align: center;}#sk-container-id-2 div.sk-container {/* jupyter's `normalize.less` sets `[hidden] { display: none; }` but bootstrap.min.css set `[hidden] { display: none !important; }` so we also need the `!important` here to be able to override the default hidden behavior on the sphinx rendered scikit-learn.org. See: https://github.com/scikit-learn/scikit-learn/issues/21755 */display: inline-block !important;position: relative;}#sk-container-id-2 div.sk-text-repr-fallback {display: none;}</style><div id=\"sk-container-id-2\" class=\"sk-top-container\"><div class=\"sk-text-repr-fallback\"><pre>DecisionTreeRegressor()</pre><b>In a Jupyter environment, please rerun this cell to show the HTML representation or trust the notebook. <br />On GitHub, the HTML representation is unable to render, please try loading this page with nbviewer.org.</b></div><div class=\"sk-container\" hidden><div class=\"sk-item\"><div class=\"sk-estimator sk-toggleable\"><input class=\"sk-toggleable__control sk-hidden--visually\" id=\"sk-estimator-id-2\" type=\"checkbox\" checked><label for=\"sk-estimator-id-2\" class=\"sk-toggleable__label sk-toggleable__label-arrow\">DecisionTreeRegressor</label><div class=\"sk-toggleable__content\"><pre>DecisionTreeRegressor()</pre></div></div></div></div></div>"
      ],
      "text/plain": [
       "DecisionTreeRegressor()"
      ]
     },
     "execution_count": 19,
     "metadata": {},
     "output_type": "execute_result"
    }
   ],
   "source": [
    "# Initialize the Decision Tree model\n",
    "from sklearn.impute import SimpleImputer\n",
    "from sklearn.tree import DecisionTreeRegressor\n",
    "\n",
    "# Instantiate the imputer with a chosen strategy (e.g., mean)\n",
    "imputer = SimpleImputer(strategy='mean')\n",
    "\n",
    "# Fit the imputer to your data and transform it\n",
    "x_imputed = imputer.fit_transform(x)\n",
    "\n",
    "# Instantiate the DecisionTreeRegressor and fit it to the imputed data\n",
    "regressor = DecisionTreeRegressor()\n",
    "regressor.fit(x_imputed, y)\n"
   ]
  },
  {
   "cell_type": "code",
   "execution_count": null,
   "id": "7a7a7f76",
   "metadata": {},
   "outputs": [],
   "source": []
  }
 ],
 "metadata": {
  "kernelspec": {
   "display_name": "Python 3 (ipykernel)",
   "language": "python",
   "name": "python3"
  },
  "language_info": {
   "codemirror_mode": {
    "name": "ipython",
    "version": 3
   },
   "file_extension": ".py",
   "mimetype": "text/x-python",
   "name": "python",
   "nbconvert_exporter": "python",
   "pygments_lexer": "ipython3",
   "version": "3.11.4"
  }
 },
 "nbformat": 4,
 "nbformat_minor": 5
}
